{
 "cells": [
  {
   "cell_type": "markdown",
   "metadata": {},
   "source": [
    "# <font color='red'>Kepler's Data Set on Mars</font>\n",
    "1. Here we are trying to follow thw path used by kepler to find th eorbit of mars .\n",
    "2. He did all the calculation by his hand. \n",
    "3. We are not going through the entire process .\n",
    "4. In this program we are just trying to fit the mars orbit to a circle using the concept of Average Sun\n",
    "5. For the Mars opposition data [Mars opposition data](https://ece.iisc.ac.in/~rajeshs/E0259/01_data_mars_opposition.csv)"
   ]
  },
  {
   "cell_type": "markdown",
   "metadata": {},
   "source": [
    "Find mars orbit\n",
    "1. First we import all the required libraries"
   ]
  },
  {
   "cell_type": "code",
   "execution_count": 1,
   "metadata": {},
   "outputs": [],
   "source": [
    "import numpy as np\n",
    "import pandas as pd\n",
    "import matplotlib.pyplot as plt\n",
    "import math  \n",
    "from scipy.optimize import minimize\n",
    "from scipy.stats.mstats import gmean  "
   ]
  },
  {
   "cell_type": "markdown",
   "metadata": {},
   "source": [
    "1. read the CSV file to df which contains Mars opposition data\n",
    "2. Extra columns angle Angle_With_Sun\tAngle_With_AverageSun created\n",
    "3. Then drr from df is created with the requied columns(All the columns which was not required are removed)\n",
    " "
   ]
  },
  {
   "cell_type": "code",
   "execution_count": 2,
   "metadata": {},
   "outputs": [
    {
     "data": {
      "text/html": [
       "<div>\n",
       "<style scoped>\n",
       "    .dataframe tbody tr th:only-of-type {\n",
       "        vertical-align: middle;\n",
       "    }\n",
       "\n",
       "    .dataframe tbody tr th {\n",
       "        vertical-align: top;\n",
       "    }\n",
       "\n",
       "    .dataframe thead th {\n",
       "        text-align: right;\n",
       "    }\n",
       "</style>\n",
       "<table border=\"1\" class=\"dataframe\">\n",
       "  <thead>\n",
       "    <tr style=\"text-align: right;\">\n",
       "      <th></th>\n",
       "      <th>Day</th>\n",
       "      <th>Month</th>\n",
       "      <th>Year</th>\n",
       "      <th>ZodiacIndex</th>\n",
       "      <th>Degree</th>\n",
       "      <th>Minute</th>\n",
       "      <th>Second</th>\n",
       "      <th>LatDegree</th>\n",
       "      <th>LatMinute</th>\n",
       "      <th>ZodiacIndexAverageSun</th>\n",
       "      <th>DegreeMean</th>\n",
       "      <th>MinuteMean</th>\n",
       "      <th>SecondMean</th>\n",
       "    </tr>\n",
       "  </thead>\n",
       "  <tbody>\n",
       "    <tr>\n",
       "      <th>0</th>\n",
       "      <td>18</td>\n",
       "      <td>11</td>\n",
       "      <td>1580</td>\n",
       "      <td>2</td>\n",
       "      <td>6</td>\n",
       "      <td>28</td>\n",
       "      <td>35</td>\n",
       "      <td>1</td>\n",
       "      <td>40</td>\n",
       "      <td>1</td>\n",
       "      <td>25</td>\n",
       "      <td>49</td>\n",
       "      <td>31</td>\n",
       "    </tr>\n",
       "    <tr>\n",
       "      <th>1</th>\n",
       "      <td>28</td>\n",
       "      <td>12</td>\n",
       "      <td>1582</td>\n",
       "      <td>3</td>\n",
       "      <td>16</td>\n",
       "      <td>55</td>\n",
       "      <td>30</td>\n",
       "      <td>4</td>\n",
       "      <td>6</td>\n",
       "      <td>3</td>\n",
       "      <td>9</td>\n",
       "      <td>24</td>\n",
       "      <td>55</td>\n",
       "    </tr>\n",
       "    <tr>\n",
       "      <th>2</th>\n",
       "      <td>30</td>\n",
       "      <td>1</td>\n",
       "      <td>1585</td>\n",
       "      <td>4</td>\n",
       "      <td>21</td>\n",
       "      <td>36</td>\n",
       "      <td>10</td>\n",
       "      <td>4</td>\n",
       "      <td>32</td>\n",
       "      <td>4</td>\n",
       "      <td>20</td>\n",
       "      <td>8</td>\n",
       "      <td>9</td>\n",
       "    </tr>\n",
       "    <tr>\n",
       "      <th>3</th>\n",
       "      <td>6</td>\n",
       "      <td>3</td>\n",
       "      <td>1587</td>\n",
       "      <td>5</td>\n",
       "      <td>25</td>\n",
       "      <td>43</td>\n",
       "      <td>0</td>\n",
       "      <td>3</td>\n",
       "      <td>41</td>\n",
       "      <td>6</td>\n",
       "      <td>0</td>\n",
       "      <td>47</td>\n",
       "      <td>40</td>\n",
       "    </tr>\n",
       "    <tr>\n",
       "      <th>4</th>\n",
       "      <td>14</td>\n",
       "      <td>4</td>\n",
       "      <td>1589</td>\n",
       "      <td>7</td>\n",
       "      <td>4</td>\n",
       "      <td>23</td>\n",
       "      <td>0</td>\n",
       "      <td>1</td>\n",
       "      <td>12</td>\n",
       "      <td>7</td>\n",
       "      <td>14</td>\n",
       "      <td>18</td>\n",
       "      <td>26</td>\n",
       "    </tr>\n",
       "    <tr>\n",
       "      <th>5</th>\n",
       "      <td>8</td>\n",
       "      <td>6</td>\n",
       "      <td>1591</td>\n",
       "      <td>8</td>\n",
       "      <td>26</td>\n",
       "      <td>43</td>\n",
       "      <td>0</td>\n",
       "      <td>-4</td>\n",
       "      <td>0</td>\n",
       "      <td>9</td>\n",
       "      <td>5</td>\n",
       "      <td>43</td>\n",
       "      <td>55</td>\n",
       "    </tr>\n",
       "    <tr>\n",
       "      <th>6</th>\n",
       "      <td>25</td>\n",
       "      <td>8</td>\n",
       "      <td>1593</td>\n",
       "      <td>11</td>\n",
       "      <td>12</td>\n",
       "      <td>16</td>\n",
       "      <td>0</td>\n",
       "      <td>-6</td>\n",
       "      <td>-2</td>\n",
       "      <td>11</td>\n",
       "      <td>9</td>\n",
       "      <td>49</td>\n",
       "      <td>31</td>\n",
       "    </tr>\n",
       "    <tr>\n",
       "      <th>7</th>\n",
       "      <td>31</td>\n",
       "      <td>10</td>\n",
       "      <td>1595</td>\n",
       "      <td>1</td>\n",
       "      <td>17</td>\n",
       "      <td>31</td>\n",
       "      <td>40</td>\n",
       "      <td>0</td>\n",
       "      <td>8</td>\n",
       "      <td>1</td>\n",
       "      <td>9</td>\n",
       "      <td>55</td>\n",
       "      <td>4</td>\n",
       "    </tr>\n",
       "    <tr>\n",
       "      <th>8</th>\n",
       "      <td>13</td>\n",
       "      <td>12</td>\n",
       "      <td>1597</td>\n",
       "      <td>3</td>\n",
       "      <td>2</td>\n",
       "      <td>28</td>\n",
       "      <td>0</td>\n",
       "      <td>3</td>\n",
       "      <td>33</td>\n",
       "      <td>2</td>\n",
       "      <td>23</td>\n",
       "      <td>11</td>\n",
       "      <td>56</td>\n",
       "    </tr>\n",
       "    <tr>\n",
       "      <th>9</th>\n",
       "      <td>18</td>\n",
       "      <td>1</td>\n",
       "      <td>1600</td>\n",
       "      <td>4</td>\n",
       "      <td>8</td>\n",
       "      <td>38</td>\n",
       "      <td>0</td>\n",
       "      <td>4</td>\n",
       "      <td>30</td>\n",
       "      <td>4</td>\n",
       "      <td>4</td>\n",
       "      <td>35</td>\n",
       "      <td>50</td>\n",
       "    </tr>\n",
       "    <tr>\n",
       "      <th>10</th>\n",
       "      <td>20</td>\n",
       "      <td>2</td>\n",
       "      <td>1602</td>\n",
       "      <td>5</td>\n",
       "      <td>12</td>\n",
       "      <td>27</td>\n",
       "      <td>0</td>\n",
       "      <td>4</td>\n",
       "      <td>10</td>\n",
       "      <td>5</td>\n",
       "      <td>14</td>\n",
       "      <td>59</td>\n",
       "      <td>37</td>\n",
       "    </tr>\n",
       "    <tr>\n",
       "      <th>11</th>\n",
       "      <td>28</td>\n",
       "      <td>3</td>\n",
       "      <td>1604</td>\n",
       "      <td>6</td>\n",
       "      <td>18</td>\n",
       "      <td>37</td>\n",
       "      <td>10</td>\n",
       "      <td>2</td>\n",
       "      <td>26</td>\n",
       "      <td>6</td>\n",
       "      <td>27</td>\n",
       "      <td>0</td>\n",
       "      <td>12</td>\n",
       "    </tr>\n",
       "  </tbody>\n",
       "</table>\n",
       "</div>"
      ],
      "text/plain": [
       "    Day  Month  Year  ZodiacIndex  Degree  Minute  Second  LatDegree  \\\n",
       "0    18     11  1580            2       6      28      35          1   \n",
       "1    28     12  1582            3      16      55      30          4   \n",
       "2    30      1  1585            4      21      36      10          4   \n",
       "3     6      3  1587            5      25      43       0          3   \n",
       "4    14      4  1589            7       4      23       0          1   \n",
       "5     8      6  1591            8      26      43       0         -4   \n",
       "6    25      8  1593           11      12      16       0         -6   \n",
       "7    31     10  1595            1      17      31      40          0   \n",
       "8    13     12  1597            3       2      28       0          3   \n",
       "9    18      1  1600            4       8      38       0          4   \n",
       "10   20      2  1602            5      12      27       0          4   \n",
       "11   28      3  1604            6      18      37      10          2   \n",
       "\n",
       "    LatMinute  ZodiacIndexAverageSun  DegreeMean  MinuteMean  SecondMean  \n",
       "0          40                      1          25          49          31  \n",
       "1           6                      3           9          24          55  \n",
       "2          32                      4          20           8           9  \n",
       "3          41                      6           0          47          40  \n",
       "4          12                      7          14          18          26  \n",
       "5           0                      9           5          43          55  \n",
       "6          -2                     11           9          49          31  \n",
       "7           8                      1           9          55           4  \n",
       "8          33                      2          23          11          56  \n",
       "9          30                      4           4          35          50  \n",
       "10         10                      5          14          59          37  \n",
       "11         26                      6          27           0          12  "
      ]
     },
     "execution_count": 2,
     "metadata": {},
     "output_type": "execute_result"
    }
   ],
   "source": [
    "df = pd.read_csv('01_data_mars_opposition.csv')\n",
    "df"
   ]
  },
  {
   "cell_type": "code",
   "execution_count": 3,
   "metadata": {},
   "outputs": [],
   "source": [
    "df['Angle_With_Sun']=df['ZodiacIndex']*30+df['Degree']+df['Minute']/60+df['Second']/3600"
   ]
  },
  {
   "cell_type": "code",
   "execution_count": 4,
   "metadata": {},
   "outputs": [],
   "source": [
    "df['Angle_With_AverageSun']=df['ZodiacIndexAverageSun']*30+df['DegreeMean']+df['MinuteMean']/60+df['SecondMean']/3600"
   ]
  },
  {
   "cell_type": "code",
   "execution_count": 5,
   "metadata": {},
   "outputs": [],
   "source": [
    "drr = df[['Angle_With_Sun','Angle_With_AverageSun']]"
   ]
  },
  {
   "cell_type": "code",
   "execution_count": 6,
   "metadata": {},
   "outputs": [
    {
     "data": {
      "text/html": [
       "<div>\n",
       "<style scoped>\n",
       "    .dataframe tbody tr th:only-of-type {\n",
       "        vertical-align: middle;\n",
       "    }\n",
       "\n",
       "    .dataframe tbody tr th {\n",
       "        vertical-align: top;\n",
       "    }\n",
       "\n",
       "    .dataframe thead th {\n",
       "        text-align: right;\n",
       "    }\n",
       "</style>\n",
       "<table border=\"1\" class=\"dataframe\">\n",
       "  <thead>\n",
       "    <tr style=\"text-align: right;\">\n",
       "      <th></th>\n",
       "      <th>Angle_With_Sun</th>\n",
       "      <th>Angle_With_AverageSun</th>\n",
       "    </tr>\n",
       "  </thead>\n",
       "  <tbody>\n",
       "    <tr>\n",
       "      <th>0</th>\n",
       "      <td>66.476389</td>\n",
       "      <td>55.825278</td>\n",
       "    </tr>\n",
       "    <tr>\n",
       "      <th>1</th>\n",
       "      <td>106.925000</td>\n",
       "      <td>99.415278</td>\n",
       "    </tr>\n",
       "    <tr>\n",
       "      <th>2</th>\n",
       "      <td>141.602778</td>\n",
       "      <td>140.135833</td>\n",
       "    </tr>\n",
       "    <tr>\n",
       "      <th>3</th>\n",
       "      <td>175.716667</td>\n",
       "      <td>180.794444</td>\n",
       "    </tr>\n",
       "    <tr>\n",
       "      <th>4</th>\n",
       "      <td>214.383333</td>\n",
       "      <td>224.307222</td>\n",
       "    </tr>\n",
       "    <tr>\n",
       "      <th>5</th>\n",
       "      <td>266.716667</td>\n",
       "      <td>275.731944</td>\n",
       "    </tr>\n",
       "    <tr>\n",
       "      <th>6</th>\n",
       "      <td>342.266667</td>\n",
       "      <td>339.825278</td>\n",
       "    </tr>\n",
       "    <tr>\n",
       "      <th>7</th>\n",
       "      <td>47.527778</td>\n",
       "      <td>39.917778</td>\n",
       "    </tr>\n",
       "    <tr>\n",
       "      <th>8</th>\n",
       "      <td>92.466667</td>\n",
       "      <td>83.198889</td>\n",
       "    </tr>\n",
       "    <tr>\n",
       "      <th>9</th>\n",
       "      <td>128.633333</td>\n",
       "      <td>124.597222</td>\n",
       "    </tr>\n",
       "    <tr>\n",
       "      <th>10</th>\n",
       "      <td>162.450000</td>\n",
       "      <td>164.993611</td>\n",
       "    </tr>\n",
       "    <tr>\n",
       "      <th>11</th>\n",
       "      <td>198.619444</td>\n",
       "      <td>207.003333</td>\n",
       "    </tr>\n",
       "  </tbody>\n",
       "</table>\n",
       "</div>"
      ],
      "text/plain": [
       "    Angle_With_Sun  Angle_With_AverageSun\n",
       "0        66.476389              55.825278\n",
       "1       106.925000              99.415278\n",
       "2       141.602778             140.135833\n",
       "3       175.716667             180.794444\n",
       "4       214.383333             224.307222\n",
       "5       266.716667             275.731944\n",
       "6       342.266667             339.825278\n",
       "7        47.527778              39.917778\n",
       "8        92.466667              83.198889\n",
       "9       128.633333             124.597222\n",
       "10      162.450000             164.993611\n",
       "11      198.619444             207.003333"
      ]
     },
     "execution_count": 6,
     "metadata": {},
     "output_type": "execute_result"
    }
   ],
   "source": [
    "drr"
   ]
  },
  {
   "cell_type": "markdown",
   "metadata": {},
   "source": [
    "### <font color='red'>Function which calculates Distace of mars from centre</font>"
   ]
  },
  {
   "cell_type": "code",
   "execution_count": 7,
   "metadata": {},
   "outputs": [],
   "source": [
    "a = math.pi / 180\n",
    "alpha = drr.iloc[:,0].values\n",
    "beta = drr.iloc[:,1].values\n",
    "r = np.zeros(12)\n",
    "Mx = np.zeros(12)\n",
    "My = np.zeros(12)\n",
    "def rad(alpha,beta,x,y):\n",
    "    for i in range(12):\n",
    "        v = math.tan((alpha[i]-y)*a)\n",
    "        b = math.tan((beta[i]-y)*a)\n",
    "        M_x = (x*b+v)/(v-b)\n",
    "        M_y = (M_x-1)*v\n",
    "        Mx[i] = M_x\n",
    "        My[i] = M_y\n",
    "        r[i] = math.sqrt(M_y*M_y+M_x*M_x)   \n",
    "    return r"
   ]
  },
  {
   "cell_type": "markdown",
   "metadata": {},
   "source": [
    "### <font color='red'>Function which calculates loss</font>"
   ]
  },
  {
   "cell_type": "code",
   "execution_count": 8,
   "metadata": {},
   "outputs": [],
   "source": [
    "def objective(x0):\n",
    "    x,y = x0\n",
    "    s=0\n",
    "    radius = rad(alpha,beta,x,y)\n",
    "    radius_am = np.mean(radius)\n",
    "    radius_gm = gmean(radius)\n",
    "    loss = math.log10(radius_am) - math.log10(radius_gm)\n",
    "    return loss"
   ]
  },
  {
   "cell_type": "markdown",
   "metadata": {},
   "source": [
    "### <font color='red'>Calling library for minimizing loss function</font>"
   ]
  },
  {
   "cell_type": "code",
   "execution_count": 9,
   "metadata": {},
   "outputs": [],
   "source": [
    "x0 = [10,100]\n",
    "par = minimize(objective,x0, bounds=((0, 1000), (0, 180)))"
   ]
  },
  {
   "cell_type": "markdown",
   "metadata": {},
   "source": [
    "### <font color='red'>printing the parameters</font>"
   ]
  },
  {
   "cell_type": "code",
   "execution_count": 10,
   "metadata": {},
   "outputs": [
    {
     "name": "stdout",
     "output_type": "stream",
     "text": [
      "parameters\n",
      "[  0.95178758 148.874814  ]\n"
     ]
    }
   ],
   "source": [
    "print ('parameters')\n",
    "print (par.x)"
   ]
  },
  {
   "cell_type": "code",
   "execution_count": 11,
   "metadata": {},
   "outputs": [
    {
     "name": "stdout",
     "output_type": "stream",
     "text": [
      "      fun: 0.001779673885176969\n",
      " hess_inv: <2x2 LbfgsInvHessProduct with dtype=float64>\n",
      "      jac: array([-6.50590692e-06, -4.95159469e-06])\n",
      "  message: b'CONVERGENCE: NORM_OF_PROJECTED_GRADIENT_<=_PGTOL'\n",
      "     nfev: 90\n",
      "      nit: 22\n",
      "   status: 0\n",
      "  success: True\n",
      "        x: array([  0.95178758, 148.874814  ])\n"
     ]
    }
   ],
   "source": [
    "print (par)"
   ]
  },
  {
   "cell_type": "markdown",
   "metadata": {},
   "source": [
    "### <font color='red'>printing the distance of mars from 12 observations</font>"
   ]
  },
  {
   "cell_type": "code",
   "execution_count": 12,
   "metadata": {},
   "outputs": [
    {
     "name": "stdout",
     "output_type": "stream",
     "text": [
      "printing the distance of mars from 12 observations\n",
      "[10.45984847 10.62634966 10.59235678 10.77680093 10.58576963 10.47069431\n",
      "  9.67944934 14.16966827 10.52315821 10.46892156 11.24032127 10.74904121]\n"
     ]
    }
   ],
   "source": [
    "print('printing the distance of mars from 12 observations')\n",
    "print (r)"
   ]
  },
  {
   "cell_type": "markdown",
   "metadata": {},
   "source": [
    "### <font color='red'>ploting the mars position with center sun and average sun</font>"
   ]
  },
  {
   "cell_type": "code",
   "execution_count": 13,
   "metadata": {},
   "outputs": [
    {
     "data": {
      "text/plain": [
       "<matplotlib.legend.Legend at 0x1a180e8d30>"
      ]
     },
     "execution_count": 13,
     "metadata": {},
     "output_type": "execute_result"
    },
    {
     "data": {
      "image/png": "[encoded data removed]",
      "text/plain": [
       "<Figure size 432x288 with 1 Axes>"
      ]
     },
     "metadata": {
      "needs_background": "light"
     },
     "output_type": "display_data"
    }
   ],
   "source": [
    "plt.xlabel(\"X\")\n",
    "plt.ylabel(\"Y\")\n",
    "plt.scatter(Mx,My,label=\"Mars\") \n",
    "plt.scatter(0,0,label=\"Centre\")\n",
    "plt.scatter(-par.x[0],0,label=\"Average Sun\")\n",
    "plt.scatter(1,0,label=\"Sun\")\n",
    "plt.axis(\"equal\")\n",
    "plt.legend()"
   ]
  },
  {
   "cell_type": "code",
   "execution_count": null,
   "metadata": {},
   "outputs": [],
   "source": []
  }
 ],
 "metadata": {
  "kernelspec": {
   "display_name": "Python 3",
   "language": "python",
   "name": "python3"
  },
  "language_info": {
   "codemirror_mode": {
    "name": "ipython",
    "version": 3
   },
   "file_extension": ".py",
   "mimetype": "text/x-python",
   "name": "python",
   "nbconvert_exporter": "python",
   "pygments_lexer": "ipython3",
   "version": "3.7.3"
  }
 },
 "nbformat": 4,
 "nbformat_minor": 2
}
