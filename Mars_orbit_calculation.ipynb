{
 "cells": [
  {
   "cell_type": "markdown",
   "metadata": {},
   "source": [
    "# <font color='red'>Kepler's Data Set on Mars</font>\n",
    "1. Here we are trying to follow thw path used by kepler to find th eorbit of mars .\n",
    "2. He did all the calculation by his hand. \n",
    "3. We are not going through the entire process .\n",
    "4. In this program we are just trying to fit the mars orbit to a circle using triangulation data\n",
    "5. Then use mars opposition data to find the latitude of mars with respect to earth\n",
    "6. Now we find the plane of mars with respect to sun earth plane\n",
    "7. Now use this plane to find the co cordinate of mars in 3d anf fit the data with a circle and ellipse\n",
    "8. For the Mars opposition data [Mars opposition data](https://ece.iisc.ac.in/~rajeshs/E0259/01_data_mars_opposition.csv)\n",
    "9. For the Mars triangulation data [Mars triangulation data](https://ece.iisc.ac.in/~rajeshs/E0259/01_data_mars_triangulation.csv)"
   ]
  },
  {
   "cell_type": "markdown",
   "metadata": {},
   "source": [
    "Find mars orbit\n",
    "1. First we import all the required libraries"
   ]
  },
  {
   "cell_type": "code",
   "execution_count": 1,
   "metadata": {},
   "outputs": [],
   "source": [
    "import numpy as np\n",
    "import pandas as pd\n",
    "import matplotlib.pyplot as plt\n",
    "import math  \n",
    "from scipy.optimize import minimize\n",
    "#from scipy.stats.mstats import gmean "
   ]
  },
  {
   "cell_type": "markdown",
   "metadata": {},
   "source": [
    "1. read the CSV file to df which contains triangulation data\n",
    "2. Extra columns Angleofearth_With_Sun\tAAngleofmars_With_Earth created\n",
    "3. Then drr from df is created with the requied columns(All the columns which was not required are removed)"
   ]
  },
  {
   "cell_type": "code",
   "execution_count": 2,
   "metadata": {},
   "outputs": [
    {
     "data": {
      "text/html": [
       "<div>\n",
       "<style scoped>\n",
       "    .dataframe tbody tr th:only-of-type {\n",
       "        vertical-align: middle;\n",
       "    }\n",
       "\n",
       "    .dataframe tbody tr th {\n",
       "        vertical-align: top;\n",
       "    }\n",
       "\n",
       "    .dataframe thead th {\n",
       "        text-align: right;\n",
       "    }\n",
       "</style>\n",
       "<table border=\"1\" class=\"dataframe\">\n",
       "  <thead>\n",
       "    <tr style=\"text-align: right;\">\n",
       "      <th></th>\n",
       "      <th>PairIndex</th>\n",
       "      <th>Day</th>\n",
       "      <th>Month</th>\n",
       "      <th>Year</th>\n",
       "      <th>DegreeEarthLocationHelioCentric</th>\n",
       "      <th>MinuteEarthLocationHelioCentric</th>\n",
       "      <th>DegreeMarsLocationGeoCentric</th>\n",
       "      <th>MinuteMarsLocationGeoCentric</th>\n",
       "    </tr>\n",
       "  </thead>\n",
       "  <tbody>\n",
       "    <tr>\n",
       "      <th>0</th>\n",
       "      <td>1</td>\n",
       "      <td>17</td>\n",
       "      <td>2</td>\n",
       "      <td>1585</td>\n",
       "      <td>159</td>\n",
       "      <td>23</td>\n",
       "      <td>135</td>\n",
       "      <td>12</td>\n",
       "    </tr>\n",
       "    <tr>\n",
       "      <th>1</th>\n",
       "      <td>1</td>\n",
       "      <td>5</td>\n",
       "      <td>1</td>\n",
       "      <td>1587</td>\n",
       "      <td>115</td>\n",
       "      <td>21</td>\n",
       "      <td>182</td>\n",
       "      <td>8</td>\n",
       "    </tr>\n",
       "    <tr>\n",
       "      <th>2</th>\n",
       "      <td>2</td>\n",
       "      <td>19</td>\n",
       "      <td>9</td>\n",
       "      <td>1591</td>\n",
       "      <td>5</td>\n",
       "      <td>47</td>\n",
       "      <td>284</td>\n",
       "      <td>18</td>\n",
       "    </tr>\n",
       "    <tr>\n",
       "      <th>3</th>\n",
       "      <td>2</td>\n",
       "      <td>6</td>\n",
       "      <td>8</td>\n",
       "      <td>1593</td>\n",
       "      <td>323</td>\n",
       "      <td>26</td>\n",
       "      <td>346</td>\n",
       "      <td>56</td>\n",
       "    </tr>\n",
       "    <tr>\n",
       "      <th>4</th>\n",
       "      <td>3</td>\n",
       "      <td>7</td>\n",
       "      <td>12</td>\n",
       "      <td>1593</td>\n",
       "      <td>85</td>\n",
       "      <td>53</td>\n",
       "      <td>3</td>\n",
       "      <td>4</td>\n",
       "    </tr>\n",
       "    <tr>\n",
       "      <th>5</th>\n",
       "      <td>3</td>\n",
       "      <td>25</td>\n",
       "      <td>10</td>\n",
       "      <td>1595</td>\n",
       "      <td>41</td>\n",
       "      <td>42</td>\n",
       "      <td>49</td>\n",
       "      <td>42</td>\n",
       "    </tr>\n",
       "    <tr>\n",
       "      <th>6</th>\n",
       "      <td>4</td>\n",
       "      <td>28</td>\n",
       "      <td>3</td>\n",
       "      <td>1587</td>\n",
       "      <td>196</td>\n",
       "      <td>50</td>\n",
       "      <td>168</td>\n",
       "      <td>12</td>\n",
       "    </tr>\n",
       "    <tr>\n",
       "      <th>7</th>\n",
       "      <td>4</td>\n",
       "      <td>12</td>\n",
       "      <td>2</td>\n",
       "      <td>1589</td>\n",
       "      <td>153</td>\n",
       "      <td>42</td>\n",
       "      <td>218</td>\n",
       "      <td>48</td>\n",
       "    </tr>\n",
       "    <tr>\n",
       "      <th>8</th>\n",
       "      <td>5</td>\n",
       "      <td>10</td>\n",
       "      <td>3</td>\n",
       "      <td>1585</td>\n",
       "      <td>179</td>\n",
       "      <td>41</td>\n",
       "      <td>131</td>\n",
       "      <td>48</td>\n",
       "    </tr>\n",
       "    <tr>\n",
       "      <th>9</th>\n",
       "      <td>5</td>\n",
       "      <td>26</td>\n",
       "      <td>1</td>\n",
       "      <td>1587</td>\n",
       "      <td>136</td>\n",
       "      <td>6</td>\n",
       "      <td>184</td>\n",
       "      <td>42</td>\n",
       "    </tr>\n",
       "  </tbody>\n",
       "</table>\n",
       "</div>"
      ],
      "text/plain": [
       "   PairIndex  Day  Month  Year  DegreeEarthLocationHelioCentric  \\\n",
       "0          1   17      2  1585                              159   \n",
       "1          1    5      1  1587                              115   \n",
       "2          2   19      9  1591                                5   \n",
       "3          2    6      8  1593                              323   \n",
       "4          3    7     12  1593                               85   \n",
       "5          3   25     10  1595                               41   \n",
       "6          4   28      3  1587                              196   \n",
       "7          4   12      2  1589                              153   \n",
       "8          5   10      3  1585                              179   \n",
       "9          5   26      1  1587                              136   \n",
       "\n",
       "   MinuteEarthLocationHelioCentric  DegreeMarsLocationGeoCentric  \\\n",
       "0                               23                           135   \n",
       "1                               21                           182   \n",
       "2                               47                           284   \n",
       "3                               26                           346   \n",
       "4                               53                             3   \n",
       "5                               42                            49   \n",
       "6                               50                           168   \n",
       "7                               42                           218   \n",
       "8                               41                           131   \n",
       "9                                6                           184   \n",
       "\n",
       "   MinuteMarsLocationGeoCentric  \n",
       "0                            12  \n",
       "1                             8  \n",
       "2                            18  \n",
       "3                            56  \n",
       "4                             4  \n",
       "5                            42  \n",
       "6                            12  \n",
       "7                            48  \n",
       "8                            48  \n",
       "9                            42  "
      ]
     },
     "execution_count": 2,
     "metadata": {},
     "output_type": "execute_result"
    }
   ],
   "source": [
    "df=pd.read_csv('01_data_mars_triangulation.csv')\n",
    "df"
   ]
  },
  {
   "cell_type": "code",
   "execution_count": 3,
   "metadata": {},
   "outputs": [],
   "source": [
    "df['Angleofearth_With_Sun']=df['DegreeEarthLocationHelioCentric']+df['MinuteEarthLocationHelioCentric']/60"
   ]
  },
  {
   "cell_type": "code",
   "execution_count": 4,
   "metadata": {},
   "outputs": [],
   "source": [
    "df['Angleofmars_With_Earth']=df['DegreeMarsLocationGeoCentric']+df['MinuteMarsLocationGeoCentric']/60"
   ]
  },
  {
   "cell_type": "code",
   "execution_count": 5,
   "metadata": {},
   "outputs": [],
   "source": [
    "drr = df[['PairIndex','Angleofearth_With_Sun','Angleofmars_With_Earth']]"
   ]
  },
  {
   "cell_type": "code",
   "execution_count": 6,
   "metadata": {},
   "outputs": [
    {
     "data": {
      "text/html": [
       "<div>\n",
       "<style scoped>\n",
       "    .dataframe tbody tr th:only-of-type {\n",
       "        vertical-align: middle;\n",
       "    }\n",
       "\n",
       "    .dataframe tbody tr th {\n",
       "        vertical-align: top;\n",
       "    }\n",
       "\n",
       "    .dataframe thead th {\n",
       "        text-align: right;\n",
       "    }\n",
       "</style>\n",
       "<table border=\"1\" class=\"dataframe\">\n",
       "  <thead>\n",
       "    <tr style=\"text-align: right;\">\n",
       "      <th></th>\n",
       "      <th>PairIndex</th>\n",
       "      <th>Angleofearth_With_Sun</th>\n",
       "      <th>Angleofmars_With_Earth</th>\n",
       "    </tr>\n",
       "  </thead>\n",
       "  <tbody>\n",
       "    <tr>\n",
       "      <th>0</th>\n",
       "      <td>1</td>\n",
       "      <td>159.383333</td>\n",
       "      <td>135.200000</td>\n",
       "    </tr>\n",
       "    <tr>\n",
       "      <th>1</th>\n",
       "      <td>1</td>\n",
       "      <td>115.350000</td>\n",
       "      <td>182.133333</td>\n",
       "    </tr>\n",
       "    <tr>\n",
       "      <th>2</th>\n",
       "      <td>2</td>\n",
       "      <td>5.783333</td>\n",
       "      <td>284.300000</td>\n",
       "    </tr>\n",
       "    <tr>\n",
       "      <th>3</th>\n",
       "      <td>2</td>\n",
       "      <td>323.433333</td>\n",
       "      <td>346.933333</td>\n",
       "    </tr>\n",
       "    <tr>\n",
       "      <th>4</th>\n",
       "      <td>3</td>\n",
       "      <td>85.883333</td>\n",
       "      <td>3.066667</td>\n",
       "    </tr>\n",
       "    <tr>\n",
       "      <th>5</th>\n",
       "      <td>3</td>\n",
       "      <td>41.700000</td>\n",
       "      <td>49.700000</td>\n",
       "    </tr>\n",
       "    <tr>\n",
       "      <th>6</th>\n",
       "      <td>4</td>\n",
       "      <td>196.833333</td>\n",
       "      <td>168.200000</td>\n",
       "    </tr>\n",
       "    <tr>\n",
       "      <th>7</th>\n",
       "      <td>4</td>\n",
       "      <td>153.700000</td>\n",
       "      <td>218.800000</td>\n",
       "    </tr>\n",
       "    <tr>\n",
       "      <th>8</th>\n",
       "      <td>5</td>\n",
       "      <td>179.683333</td>\n",
       "      <td>131.800000</td>\n",
       "    </tr>\n",
       "    <tr>\n",
       "      <th>9</th>\n",
       "      <td>5</td>\n",
       "      <td>136.100000</td>\n",
       "      <td>184.700000</td>\n",
       "    </tr>\n",
       "  </tbody>\n",
       "</table>\n",
       "</div>"
      ],
      "text/plain": [
       "   PairIndex  Angleofearth_With_Sun  Angleofmars_With_Earth\n",
       "0          1             159.383333              135.200000\n",
       "1          1             115.350000              182.133333\n",
       "2          2               5.783333              284.300000\n",
       "3          2             323.433333              346.933333\n",
       "4          3              85.883333                3.066667\n",
       "5          3              41.700000               49.700000\n",
       "6          4             196.833333              168.200000\n",
       "7          4             153.700000              218.800000\n",
       "8          5             179.683333              131.800000\n",
       "9          5             136.100000              184.700000"
      ]
     },
     "execution_count": 6,
     "metadata": {},
     "output_type": "execute_result"
    }
   ],
   "source": [
    "drr"
   ]
  },
  {
   "cell_type": "markdown",
   "metadata": {},
   "source": [
    "### <font color='red'>Function which calculates coordinate of mars</font>"
   ]
  },
  {
   "cell_type": "code",
   "execution_count": 7,
   "metadata": {},
   "outputs": [],
   "source": [
    "a = math.pi / 180\n",
    "E_angle = drr.iloc[:,1].values\n",
    "M_angle = drr.iloc[:,2].values\n",
    "r = np.zeros(5)\n",
    "Mx = np.zeros(5)\n",
    "My = np.zeros(5)\n",
    "def rad(E_angle,M_angle):\n",
    "    j=0\n",
    "    for i in range(0,10,2):\n",
    "        ta = math.tan((M_angle[i])*a)\n",
    "        tb = math.tan((M_angle[i+1])*a)\n",
    "        st = math.sin(E_angle[i]*a)\n",
    "        sp = math.sin(E_angle[i+1]*a)\n",
    "        ct = math.cos(E_angle[i]*a)\n",
    "        cp = math.cos(E_angle[i+1]*a)\n",
    "        M_x = (sp-st+ta*ct-tb*cp)/(ta-tb)\n",
    "        M_y = st+ta*(M_x-ct)\n",
    "        Mx[j] = M_x\n",
    "        My[j] = M_y\n",
    "        r[j] = math.sqrt(M_y*M_y+M_x*M_x)  \n",
    "        j=j+1\n",
    "    return r"
   ]
  },
  {
   "cell_type": "markdown",
   "metadata": {},
   "source": [
    "### <font color='red'>Function which calculates loss</font>"
   ]
  },
  {
   "cell_type": "code",
   "execution_count": 8,
   "metadata": {},
   "outputs": [],
   "source": [
    "def objective(r0):\n",
    "    \n",
    "    s=0\n",
    "    rad(E_angle,M_angle)\n",
    "    for i in range(5):\n",
    "        s=s+(r0-r[i])**2\n",
    "        \n",
    "    \n",
    "    return s"
   ]
  },
  {
   "cell_type": "markdown",
   "metadata": {},
   "source": [
    "### <font color='red'>Calling library for minimizing loss function</font>"
   ]
  },
  {
   "cell_type": "code",
   "execution_count": 9,
   "metadata": {},
   "outputs": [],
   "source": [
    "x0 = [2]\n",
    "par = minimize(objective,x0)"
   ]
  },
  {
   "cell_type": "markdown",
   "metadata": {},
   "source": [
    "### <font color='red'>printing the radius and x any coordinates of mars</font>"
   ]
  },
  {
   "cell_type": "code",
   "execution_count": 10,
   "metadata": {},
   "outputs": [
    {
     "name": "stdout",
     "output_type": "stream",
     "text": [
      "      fun: 0.07120993396639333\n",
      " hess_inv: array([[1]])\n",
      "      jac: array([1.08033419e-07])\n",
      "  message: 'Optimization terminated successfully.'\n",
      "     nfev: 9\n",
      "      nit: 1\n",
      "     njev: 3\n",
      "   status: 0\n",
      "  success: True\n",
      "        x: array([1.57732092])\n",
      "radius\n",
      "[1.57732092]\n",
      "x coordinates\n",
      "[-1.45297367  1.19567278  1.07388531 -1.63230459 -1.55376733]\n",
      "y coordinates\n",
      "[ 0.86553353 -0.68685663  1.05110693 -0.1485418   0.62489899]\n"
     ]
    }
   ],
   "source": [
    "print (par)\n",
    "print (\"radius\")\n",
    "print (par.x)\n",
    "print (\"x coordinates\")\n",
    "print (Mx)\n",
    "print (\"y coordinates\")\n",
    "print (My)"
   ]
  },
  {
   "cell_type": "markdown",
   "metadata": {},
   "source": [
    "### <font color='red'>Function which calculates LatDegreewithsun</font>"
   ]
  },
  {
   "cell_type": "code",
   "execution_count": 11,
   "metadata": {},
   "outputs": [
    {
     "name": "stdout",
     "output_type": "stream",
     "text": [
      "LatDegreewithsun\n",
      "[ 0.3660458   1.46611754  1.46611754  1.0989106   0.3660458  -1.46611754\n",
      " -2.20305824  0.          1.0989106   1.46611754  1.46611754  0.7322848 ]\n"
     ]
    }
   ],
   "source": [
    "df2 = pd.read_csv('01_data_mars_opposition.csv')\n",
    "\n",
    "\n",
    "alpha = df2.iloc[:,7].values\n",
    "LatDegreewithsun = np.zeros(12)\n",
    "\n",
    "# r is taken fron 2_(ii)\n",
    "#Function which calculates LatDegreewithsun\n",
    "\n",
    "r=1.57732092\n",
    "for i in range (12):\n",
    "    LatDegreewithsun[i] = math.atan((r-1)*math.tan(alpha[i]*np.pi/180)/r)*180/np.pi\n",
    "    \n",
    "# printing LatDegreewithsun   \n",
    "\n",
    "print (\"LatDegreewithsun\")\n",
    "print (LatDegreewithsun)"
   ]
  },
  {
   "cell_type": "markdown",
   "metadata": {},
   "source": [
    "### <font color='red'>Function which calculates plane of mars</font>"
   ]
  },
  {
   "cell_type": "code",
   "execution_count": 12,
   "metadata": {},
   "outputs": [
    {
     "name": "stdout",
     "output_type": "stream",
     "text": [
      "parametre from scipy.optimize.minimize\n",
      "[ 0.02733717 -0.0252399   1.25676877]\n",
      "parametre from gradient_descent\n",
      "A 0.022696535552149982, B -0.020951750721414236, C 1.0433553133497575, iteration 499\n"
     ]
    },
    {
     "data": {
      "image/png": "[encoded data removed]",
      "text/plain": [
       "<Figure size 432x288 with 1 Axes>"
      ]
     },
     "metadata": {
      "needs_background": "light"
     },
     "output_type": "display_data"
    }
   ],
   "source": [
    "df = pd.read_csv(\"./../data/01_data_mars_opposition.csv\")\n",
    "\n",
    "df['log_Angle_With_Sun']=df['ZodiacIndex']*30+df['Degree']+df['Minute']/60+df['Second']/3600\n",
    "\n",
    "alpha = df.iloc[:,7].values\n",
    "phi = np.zeros(12)\n",
    "theta = df.iloc[:,13].values\n",
    "# r is taken fron 2_(ii)\n",
    "#Function which calculates LatDegreewithsun\n",
    "\n",
    "r=1.57732092\n",
    "for i in range (12):\n",
    "    phi[i]= math.degrees(math.atan((r-1)*math.tan(alpha[i]*np.pi/180)/r))\n",
    "\n",
    "#x,y,z coordinates of mars is calculated     \n",
    "    \n",
    "M_x = np.zeros(12)\n",
    "M_y = np.zeros(12)\n",
    "M_z = np.zeros(12)\n",
    "for i in range(12):\n",
    "    M_x[i] = r*math.cos( phi[i]*np.pi/180)*math.cos( theta[i]*np.pi/180)\n",
    "    M_y[i] = r*math.cos( phi[i]*np.pi/180)*math.sin( theta[i]*np.pi/180)\n",
    "    M_z[i] = r*math.sin( phi[i]*np.pi/180)\n",
    "    \n",
    "def objective(x0):\n",
    "    A, B, C = x0\n",
    "    s = 0\n",
    "    for i in range (12):\n",
    "        s = s + (A*M_x[i]+B*M_y[i]+C*M_z[i])**2\n",
    "        \n",
    "    loss = s/(A**2+B**2+C**2)\n",
    "    return loss\n",
    "\n",
    "#minimization is done scipy.optimize.minimize\n",
    "    \n",
    "x0 = [0.5,0.5,0.5]\n",
    "#args=(M_x, M_y, M_z)\n",
    "par = minimize(objective,x0)\n",
    "\n",
    "print (\"parametre from scipy.optimize.minimize\")\n",
    "print (par.x)\n",
    "\n",
    "#minimization using gradient_dedcent\n",
    "\n",
    "cost = np.zeros(500)\n",
    "def gradient_descent(M_x,M_y,M_z):\n",
    "    A = B = C = 0.6\n",
    "    iterations = 500\n",
    "\n",
    "    learning_rate = 0.001\n",
    "\n",
    "    for i in range(iterations):\n",
    "        y_predicted = ((A*M_x+B*M_y+C*M_z)**2)/(A**2+B**2+C**2)\n",
    "        cost[i] = sum([val for val in (y_predicted)])\n",
    "        da = ((A**2+B**2+C**2)*(A*M_x+B*M_y+C*M_z)*(2*M_x)-((A*M_x+B*M_y+C*M_z)**2)*2*A)/((A**2+B**2+C**2)**2)\n",
    "        db = ((A**2+B**2+C**2)*(A*M_x+B*M_y+C*M_z)*(2*M_y)-((A*M_x+B*M_y+C*M_z)**2)*2*B)/((A**2+B**2+C**2)**2)\n",
    "        dc = ((A**2+B**2+C**2)*(A*M_x+B*M_y+C*M_z)*(2*M_z)-((A*M_x+B*M_y+C*M_z)**2)*2*C)/((A**2+B**2+C**2)**2)\n",
    "        A = A - learning_rate*sum(da)\n",
    "        B = B - learning_rate*sum(db)\n",
    "        C = C - learning_rate*sum(dc)\n",
    "       \n",
    "    print (\"parametre from gradient_descent\")\n",
    "    print (\"A {}, B {}, C {}, iteration {}\".format(A,B,C, i))\n",
    "\n",
    "gradient_descent(M_x,M_y,M_z)\n",
    "it = np.zeros(500)\n",
    "for i in range (500):\n",
    "    it[i] = i\n",
    "\n",
    "#plotting cost funtion in gradient descent    \n",
    "\n",
    "plt.plot(it, cost, label='cost')\n",
    "plt.xlabel('iterations')\n",
    "plt.ylabel('cost')\n",
    "plt.legend()\n",
    "plt.show()"
   ]
  },
  {
   "cell_type": "markdown",
   "metadata": {},
   "source": [
    "### <font color='red'>Function which calculates best fit ellipse and circle in the new plane</font>"
   ]
  },
  {
   "cell_type": "code",
   "execution_count": 13,
   "metadata": {},
   "outputs": [
    {
     "name": "stdout",
     "output_type": "stream",
     "text": [
      "radius of the circle \n",
      "[1.57603322]\n",
      "semi major axis length\n",
      "1.5327193099990848\n",
      "semi minor axis length\n",
      "1.5006689381767349\n",
      "angle of rotation theta\n",
      "-39.73907432367996\n"
     ]
    },
    {
     "data": {
      "image/png": "[encoded data removed]",
      "text/plain": [
       "<Figure size 432x288 with 1 Axes>"
      ]
     },
     "metadata": {
      "needs_background": "light"
     },
     "output_type": "display_data"
    },
    {
     "data": {
      "image/png": "[encoded data removed]",
      "text/plain": [
       "<Figure size 432x288 with 1 Axes>"
      ]
     },
     "metadata": {
      "needs_background": "light"
     },
     "output_type": "display_data"
    }
   ],
   "source": [
    "#Parameters are taken from 3(iii) \n",
    "#Mx ,My are taken from 2(i)\n",
    "\n",
    "\n",
    "par = [ 0.022696535552149982, -0.020951750721414236 ,  1.0433553133497575]\n",
    "M_x = [-1.45297367,  1.19567278,  1.07388531, -1.63230459, -1.55376733]\n",
    "M_y = [ 0.86553353, -0.68685663,  1.05110693, -0.1485418 ,  0.62489899]\n",
    "M_z = np.zeros(5)\n",
    "\n",
    "#Mz is calculated using the best fit plane\n",
    "\n",
    "for i in range (5):\n",
    "    M_z[i] = (-1)*(par[0]*M_x[i]+par[1]*M_y[i])/par[2]\n",
    "    \n",
    "#12 points of mars is found using opposition data\n",
    "\n",
    "df = pd.read_csv(\"./../data/01_data_mars_opposition.csv\")\n",
    "df['log_Angle_With_Sun']=df['ZodiacIndex']*30+df['Degree']+df['Minute']/60+df['Second']/3600\n",
    "alpha = df.iloc[:,7].values\n",
    "phi = np.zeros(12)\n",
    "theta = df.iloc[:,13].values\n",
    "r=1.57732092\n",
    "for i in range (12):\n",
    "    phi[i]= math.degrees(math.atan((r-1)*math.tan(alpha[i]*np.pi/180)/r))\n",
    "M_x2 = np.zeros(12)\n",
    "M_y2 = np.zeros(12)\n",
    "M_z2 = np.zeros(12)\n",
    "for i in range(12):\n",
    "    M_x2[i] = r*math.cos( phi[i]*np.pi/180)*math.cos( theta[i]*np.pi/180)\n",
    "    M_y2[i] = r*math.cos( phi[i]*np.pi/180)*math.sin( theta[i]*np.pi/180)\n",
    "    M_z2[i] = r*math.sin( phi[i]*np.pi/180)\n",
    "    \n",
    "    \n",
    "\n",
    "st = math.sin(1.25*np.pi/180)\n",
    "sp = math.sin(1.15*np.pi/180)\n",
    "ct = math.cos(1.25*np.pi/180)\n",
    "cp = math.cos(1.15*np.pi/180)\n",
    "\n",
    "#New coordinated are calcuted using transformation of x and y coordinatesto the best fit plane\n",
    "\n",
    "M_xn = np.zeros(5)\n",
    "M_yn = np.zeros(5)\n",
    "M_xn2 = np.zeros(12)\n",
    "M_yn2 = np.zeros(12)\n",
    "for i in range (5):\n",
    "    M_xn[i] = M_x[i]*cp+M_z[i]*sp\n",
    "    M_yn[i] = M_x[i]*st*sp+M_y[i]*ct-M_z[i]*st*cp\n",
    "for i in range (12):\n",
    "    M_xn2[i] = M_x2[i]*cp+M_z2[i]*sp\n",
    "    M_yn2[i] = M_x2[i]*st*sp+M_y2[i]*ct-M_z2[i]*st*cp\n",
    "    \n",
    "#loss function for best fit circle\n",
    "\n",
    "def objective(r0):\n",
    "    \n",
    "    s=0\n",
    "    for i in range(5):\n",
    "        s=s+(r0-math.sqrt(M_yn[i]*M_yn[i]+M_xn[i]*M_xn[i]))**2\n",
    "        \n",
    "    \n",
    "    return s\n",
    "x0 = [2]\n",
    "parc = minimize(objective,x0)\n",
    "\n",
    "print (\"radius of the circle \")\n",
    "print (parc.x)\n",
    "\n",
    "#loss function for best fit ellipse\n",
    " \n",
    "D = np.zeros(5)\n",
    "def objective2(x0):\n",
    "    r,theta = x0\n",
    "    s = 0\n",
    "    for i in range(5):\n",
    "        D[i] = math.sqrt(M_xn[i]**2+M_yn[i]**2)+math.sqrt((M_xn[i]-r*math.cos(theta*np.pi/180))**2+(M_yn[i]-r*math.sin(theta*np.pi/180))**2)\n",
    "    for i in range(5):\n",
    "        s = s + (np.mean(D)-D[i])**2\n",
    "    return s\n",
    "\n",
    "x0 = [1,30]\n",
    "pare = minimize(objective2,x0)\n",
    "\n",
    "#plotting the graph of best fit ellipse and circle and all the mars location \n",
    "\n",
    "u = (0+pare.x[0]*math.cos(pare.x[1]*np.pi/180))/2       #x-position of the center\n",
    "v = (0+pare.x[0]*math.sin(pare.x[1]*np.pi/180))/2        #y-position of the center\n",
    "a = np.mean(D)/2       #radius on the x-axis\n",
    "b = math.sqrt(a**2-pare.x[0]**2)      #radius on the y-axis\n",
    "t_rot = pare.x[1]*np.pi/180 #rotation angle\n",
    "\n",
    "print (\"semi major axis length\")\n",
    "print (a)\n",
    "print (\"semi minor axis length\")\n",
    "print (b)\n",
    "print (\"angle of rotation theta\")\n",
    "print (pare.x[1])\n",
    "\n",
    "t = np.linspace(0, 2*np.pi, 100)\n",
    "Ell = np.array([a*np.cos(t) , b*np.sin(t)])  \n",
    "     #u,v removed to keep the same center location\n",
    "R_rot = np.array([[math.cos(t_rot) , -math.sin(t_rot)],[math.sin(t_rot) , math.cos(t_rot)]])  \n",
    "     #2-D rotation matrix\n",
    "\n",
    "Ell_rot = np.zeros((2,Ell.shape[1]))\n",
    "for i in range(Ell.shape[1]):\n",
    "    Ell_rot[:,i] = np.dot(R_rot,Ell[:,i])\n",
    "\n",
    "theta1 = np.linspace(0, 2*np.pi, 100)\n",
    "r = parc.x\n",
    "x1 = r*np.cos(theta1)\n",
    "x2 = r*np.sin(theta1)\n",
    "\n",
    "plt.plot(x1, x2,'red',label=\"circle\") \n",
    "plt.title(\"5 points from triagulation data \")\n",
    "plt.plot( u+Ell_rot[0,:] , v+Ell_rot[1,:],'darkorange',label=\"ellipse\" )    #rotated ellipse\n",
    "plt.grid(color='lightgray',linestyle='--')\n",
    "plt.scatter(M_xn,M_yn,label=\"Mars\") \n",
    "plt.scatter(0,0,label='Sun')\n",
    "plt.axis(\"equal\")\n",
    "plt.legend()\n",
    "plt.show()\n",
    "\n",
    "\n",
    "plt.plot(x1, x2,'red',label=\"circle\") \n",
    "plt.title(\"12 points from opposition data \")\n",
    "plt.plot( u+Ell_rot[0,:] , v+Ell_rot[1,:],'darkorange',label=\"ellipse\" )    #rotated ellipse\n",
    "plt.grid(color='lightgray',linestyle='--')\n",
    "plt.scatter(M_xn2,M_yn2,label=\"Mars\") \n",
    "plt.scatter(0,0,label='Sun')\n",
    "plt.axis(\"equal\")\n",
    "plt.legend()\n",
    "plt.show()"
   ]
  },
  {
   "cell_type": "code",
   "execution_count": 14,
   "metadata": {},
   "outputs": [
    {
     "data": {
      "text/plain": [
       "      fun: 0.0002776173636838367\n",
       " hess_inv: array([[2.67782402e-01, 3.84710010e+01],\n",
       "       [3.84710010e+01, 1.51982537e+04]])\n",
       "      jac: array([2.20439688e-07, 3.25235305e-09])\n",
       "  message: 'Optimization terminated successfully.'\n",
       "     nfev: 100\n",
       "      nit: 24\n",
       "     njev: 25\n",
       "   status: 0\n",
       "  success: True\n",
       "        x: array([ -0.31180318, -39.73907432])"
      ]
     },
     "execution_count": 14,
     "metadata": {},
     "output_type": "execute_result"
    }
   ],
   "source": [
    "pare"
   ]
  },
  {
   "cell_type": "code",
   "execution_count": null,
   "metadata": {},
   "outputs": [],
   "source": []
  }
 ],
 "metadata": {
  "kernelspec": {
   "display_name": "Python 3",
   "language": "python",
   "name": "python3"
  },
  "language_info": {
   "codemirror_mode": {
    "name": "ipython",
    "version": 3
   },
   "file_extension": ".py",
   "mimetype": "text/x-python",
   "name": "python",
   "nbconvert_exporter": "python",
   "pygments_lexer": "ipython3",
   "version": "3.7.3"
  }
 },
 "nbformat": 4,
 "nbformat_minor": 2
}
